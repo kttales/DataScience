{
 "cells": [
  {
   "cell_type": "markdown",
   "metadata": {},
   "source": [
    "# Class01_05_Jan_2020, Class02_11_Jan_2020 & Class03_12_Jan_2020"
   ]
  },
  {
   "cell_type": "markdown",
   "metadata": {},
   "source": [
    "### Basics from Different data types (List, String and Dictionary)"
   ]
  },
  {
   "cell_type": "markdown",
   "metadata": {},
   "source": [
    "#### 1. Create a list which contains a number from 1 to 10"
   ]
  },
  {
   "cell_type": "code",
   "execution_count": 1,
   "metadata": {
    "scrolled": true
   },
   "outputs": [
    {
     "name": "stdout",
     "output_type": "stream",
     "text": [
      "[1, 2, 3, 4, 5, 6, 7, 8, 9, 10]\n"
     ]
    }
   ],
   "source": [
    "a = list(range(1,11))\n",
    "print(a)"
   ]
  },
  {
   "cell_type": "markdown",
   "metadata": {},
   "source": [
    "#### 2. Using slice Create a list which contains middle 5 numbers in a given list of any 50 numbers"
   ]
  },
  {
   "cell_type": "code",
   "execution_count": 3,
   "metadata": {},
   "outputs": [
    {
     "name": "stdout",
     "output_type": "stream",
     "text": [
      "enter the list of 50 numbers[0, 1, 2, 3, 4, 5, 6, 7, 8, 9, 10, 11, 12, 13, 14, 15, 16, 17, 18, 19, 20, 21, 22, 23, 24, 25, 26, 27, 28, 29, 30, 31, 32, 33, 34, 35, 36, 37, 38, 39, 40, 41, 42, 43, 44, 45, 46, 47, 48, 49]\n",
      "[23, 24, 25, 26, 27]\n"
     ]
    }
   ],
   "source": [
    "a = eval(input(\"enter the list of 50 numbers\"))\n",
    "num = int (50/2)\n",
    "print(a[num-2:num+2+1:])"
   ]
  },
  {
   "cell_type": "markdown",
   "metadata": {},
   "source": [
    "#### 3. Using slicing filter even and odd number"
   ]
  },
  {
   "cell_type": "code",
   "execution_count": 6,
   "metadata": {},
   "outputs": [
    {
     "name": "stdout",
     "output_type": "stream",
     "text": [
      "[0, 2, 4, 6, 8, 10, 12, 14, 16, 18, 20, 22, 24, 26, 28, 30, 32, 34, 36, 38, 40, 42, 44, 46, 48]\n",
      "[1, 3, 5, 7, 9, 11, 13, 15, 17, 19, 21, 23, 25, 27, 29, 31, 33, 35, 37, 39, 41, 43, 45, 47, 49]\n"
     ]
    }
   ],
   "source": [
    "a = list(range(50))\n",
    "print(a[::2])\n",
    "print(a[1::2])"
   ]
  },
  {
   "cell_type": "markdown",
   "metadata": {},
   "source": [
    "#### 4. Write a Python program to add key to any given dictionary"
   ]
  },
  {
   "cell_type": "code",
   "execution_count": 6,
   "metadata": {},
   "outputs": [
    {
     "name": "stdout",
     "output_type": "stream",
     "text": [
      "enter the key to be added to dictionary1\n",
      "{1: 'val'}\n"
     ]
    }
   ],
   "source": [
    "a = eval(input(\"enter the key to be added to dictionary\"))\n",
    "d = {}\n",
    "d[a] = 'val'\n",
    "print(d)"
   ]
  },
  {
   "cell_type": "markdown",
   "metadata": {},
   "source": [
    "#### 5. Write a Python program to concatenate following dictionaries to create a new one.\n",
    "\n",
    "Sample Dictionary :\n",
    "dict1={1:10, 2:20}\n",
    "dict2={3:30, 4:40}\n",
    "dict3={5:50,6:60}"
   ]
  },
  {
   "cell_type": "code",
   "execution_count": 13,
   "metadata": {},
   "outputs": [
    {
     "name": "stdout",
     "output_type": "stream",
     "text": [
      "{1: 10, 2: 20, 3: 30, 4: 40, 5: 50, 6: 60}\n"
     ]
    }
   ],
   "source": [
    "dict1={1:10, 2:20}\n",
    "dict2={3:30, 4:40}\n",
    "dict3={5:50,6:60}\n",
    "\n",
    "d = {}\n",
    "\n",
    "for key in dict1.keys():\n",
    "    d[key] = dict1[key]\n",
    "\n",
    "for key in dict2.keys():\n",
    "    d[key] = dict2[key]\n",
    "\n",
    "for key in dict3.keys():\n",
    "    d[key] = dict3[key]\n",
    "    \n",
    "print(d)"
   ]
  },
  {
   "cell_type": "code",
   "execution_count": 61,
   "metadata": {},
   "outputs": [
    {
     "name": "stdout",
     "output_type": "stream",
     "text": [
      "{1: 10, 2: 20, 3: 30, 4: 40, 5: 50, 6: 60}\n"
     ]
    }
   ],
   "source": [
    "#Method 2 -> using **kwargs method\n",
    "dict1={1:10, 2:20}\n",
    "dict2={3:30, 4:40}\n",
    "dict3={5:50, 6:60}\n",
    "\n",
    "d = {**dict1, **dict2, **dict3}\n",
    "print(d)"
   ]
  },
  {
   "cell_type": "markdown",
   "metadata": {},
   "source": [
    "#### 6. Write a Python program to check a list is empty or not."
   ]
  },
  {
   "cell_type": "code",
   "execution_count": 10,
   "metadata": {},
   "outputs": [
    {
     "name": "stdout",
     "output_type": "stream",
     "text": [
      "enter the list[]\n",
      "list is empty\n"
     ]
    }
   ],
   "source": [
    "a = eval(input(\"enter the list\"))\n",
    "\n",
    "if(len(a)== 0):\n",
    "    print(\"list is empty\")\n",
    "else:\n",
    "    print(\"list is not empty\")"
   ]
  },
  {
   "cell_type": "markdown",
   "metadata": {},
   "source": [
    "#### 7. Write a Python program to find the second largest number in a list [10,30,20,4,7,2,8,3]"
   ]
  },
  {
   "cell_type": "code",
   "execution_count": 7,
   "metadata": {},
   "outputs": [
    {
     "name": "stdout",
     "output_type": "stream",
     "text": [
      "20\n"
     ]
    }
   ],
   "source": [
    "a = [10,30,20,4,7,2,8,3]\n",
    "largest = -1\n",
    "second_largest = -1\n",
    "\n",
    "for num in a:\n",
    "    if num > largest:\n",
    "        second_largest = largest\n",
    "        largest = num\n",
    "    elif (num < largest) and (num >= second_largest):\n",
    "        second_largest = num\n",
    "        \n",
    "print(second_largest)"
   ]
  },
  {
   "cell_type": "code",
   "execution_count": null,
   "metadata": {},
   "outputs": [],
   "source": [
    "#Method 2 -> To sort the list"
   ]
  },
  {
   "cell_type": "code",
   "execution_count": 52,
   "metadata": {},
   "outputs": [
    {
     "name": "stdout",
     "output_type": "stream",
     "text": [
      "20\n"
     ]
    }
   ],
   "source": [
    "a = [10,30,20,4,7,2,8,3]\n",
    "a.sort(reverse=True)\n",
    "print(a[1])"
   ]
  },
  {
   "cell_type": "markdown",
   "metadata": {},
   "source": [
    "#### 8. Write a Python program to get the input integer value from user to generate a list of values from 0 till the entered number by user (make sure that entered number is included in the list)"
   ]
  },
  {
   "cell_type": "code",
   "execution_count": 16,
   "metadata": {},
   "outputs": [
    {
     "name": "stdout",
     "output_type": "stream",
     "text": [
      "enter the number = 25\n",
      "[0, 1, 2, 3, 4, 5, 6, 7, 8, 9, 10, 11, 12, 13, 14, 15, 16, 17, 18, 19, 20, 21, 22, 23, 24, 25]\n"
     ]
    }
   ],
   "source": [
    "a = eval(input(\"enter the number = \"))\n",
    "\n",
    "print(list(range(a+1)))"
   ]
  },
  {
   "cell_type": "markdown",
   "metadata": {},
   "source": [
    "#### 9. Write a Python program to add new Key,Value pair in {\"A\":2,\"B\":3} dictionary. Get the input \"KEY\" and \"VALUE\" from user and add to the dictionary.\n",
    "If entered KEY is existing then dont overwrite existing KEY:VALUE but print some warning message else add as new KEY/VALUE pair"
   ]
  },
  {
   "cell_type": "code",
   "execution_count": 3,
   "metadata": {},
   "outputs": [
    {
     "name": "stdout",
     "output_type": "stream",
     "text": [
      "enter the KEY \"B\"\n",
      "B\n",
      "enter the value 21\n",
      "21\n",
      "Cannot overwrite value of existing key\n",
      "{'A': 2, 'B': 3}\n"
     ]
    }
   ],
   "source": [
    "key = eval(input(\"enter the KEY \"))\n",
    "print(key)\n",
    "val = eval(input(\"enter the value \"))\n",
    "print(val)\n",
    "d = {\"A\":2, \"B\":3}\n",
    "flag = True\n",
    "for k in d.keys():\n",
    "    if(k == key):\n",
    "        print(\"Cannot overwrite value of existing key\")\n",
    "        flag = False\n",
    "        break\n",
    "\n",
    "if flag:\n",
    "    d[key] = val\n",
    "print(d)"
   ]
  },
  {
   "cell_type": "code",
   "execution_count": 63,
   "metadata": {},
   "outputs": [
    {
     "name": "stdout",
     "output_type": "stream",
     "text": [
      "enter the KEY \"C\"\n",
      "C\n",
      "enter the value 7\n",
      "7\n",
      "{'A': 2, 'B': 3, 'C': 7}\n"
     ]
    }
   ],
   "source": [
    "# Method 2 -> using in or has_key method\n",
    "key = eval(input(\"enter the KEY \"))\n",
    "print(key)\n",
    "val = eval(input(\"enter the value \"))\n",
    "print(val)\n",
    "d = {\"A\":2, \"B\":3}\n",
    "flag = True\n",
    "\n",
    "if key in d:\n",
    "    print(\"Cannot overwrite value of existing key\")\n",
    "else:\n",
    "    d[key] = val\n",
    "print(d)"
   ]
  },
  {
   "cell_type": "markdown",
   "metadata": {
    "ExecuteTime": {
     "end_time": "2018-09-23T15:00:41.260812Z",
     "start_time": "2018-09-23T15:00:41.245212Z"
    }
   },
   "source": [
    "#### 10. Write a Python program to replace every 2nd value to zero in the given list from 0 to 19"
   ]
  },
  {
   "cell_type": "code",
   "execution_count": 7,
   "metadata": {},
   "outputs": [
    {
     "name": "stdout",
     "output_type": "stream",
     "text": [
      "[0, 1, 2, 3, 4, 5, 6, 7, 8, 9, 10, 11, 12, 13, 14, 15, 16, 17, 18, 19]\n",
      "[0, 0, 2, 0, 4, 0, 6, 0, 8, 0, 10, 0, 12, 0, 14, 0, 16, 0, 18, 0]\n"
     ]
    }
   ],
   "source": [
    "a = list(range(20))\n",
    "print(a)\n",
    "\n",
    "count = 0\n",
    "for num in a:\n",
    "    if(count%2 != 0):\n",
    "        a[count] = 0\n",
    "    count+=1\n",
    "print(a)"
   ]
  },
  {
   "cell_type": "code",
   "execution_count": 59,
   "metadata": {},
   "outputs": [
    {
     "name": "stdout",
     "output_type": "stream",
     "text": [
      "[0, 0, 2, 0, 4, 0, 6, 0, 8, 0, 10, 0, 12, 0, 14, 0, 16, 0, 18, 0]\n"
     ]
    }
   ],
   "source": [
    "#Method 2 -> using list comprehension\n",
    "a = list(range(20))\n",
    "b = []\n",
    "[b.append(0) if i%2 != 0 else b.append(val) for i,val in enumerate(a)]\n",
    "print(b)"
   ]
  },
  {
   "cell_type": "markdown",
   "metadata": {},
   "source": [
    "#### 11. Using list comprehension, create a list of even and odd numbers between 1 to 100 and make sure that number is greater than 20 and less than 77"
   ]
  },
  {
   "cell_type": "code",
   "execution_count": 5,
   "metadata": {},
   "outputs": [
    {
     "name": "stdout",
     "output_type": "stream",
     "text": [
      "[22, 24, 26, 28, 30, 32, 34, 36, 38, 40, 42, 44, 46, 48, 50, 52, 54, 56, 58, 60, 62, 64, 66, 68, 70, 72, 74, 76]\n",
      "[21, 23, 25, 27, 29, 31, 33, 35, 37, 39, 41, 43, 45, 47, 49, 51, 53, 55, 57, 59, 61, 63, 65, 67, 69, 71, 73, 75]\n"
     ]
    }
   ],
   "source": [
    "even = []\n",
    "odd = []\n",
    "[even.append(i) if i%2==0 else odd.append(i) for i in range(101) if i > 20 and i < 77]\n",
    "print(even)\n",
    "print(odd)"
   ]
  },
  {
   "cell_type": "markdown",
   "metadata": {},
   "source": [
    "#### 12. multiply Each item of list1 with list2 elements (both are of same length). Where L1 = range(10), L2 = range(11,21). Store the result in new list. "
   ]
  },
  {
   "cell_type": "code",
   "execution_count": 11,
   "metadata": {},
   "outputs": [
    {
     "name": "stdout",
     "output_type": "stream",
     "text": [
      "[0, 12, 26, 42, 60, 80, 102, 126, 152, 180]\n"
     ]
    }
   ],
   "source": [
    "l1 = list(range(10))\n",
    "l2 = list(range(11,21))\n",
    "l3 = []\n",
    "\n",
    "size = len(l1)\n",
    "count = 0\n",
    "while count < size:\n",
    "    l3.append(l1[count] * l2[count])\n",
    "    count+=1\n",
    "print(l3)"
   ]
  },
  {
   "cell_type": "code",
   "execution_count": 50,
   "metadata": {},
   "outputs": [
    {
     "data": {
      "text/plain": [
       "[0, 12, 26, 42, 60, 80, 102, 126, 152, 180]"
      ]
     },
     "execution_count": 50,
     "metadata": {},
     "output_type": "execute_result"
    }
   ],
   "source": [
    "#Method 2 -> List Comprehension\n",
    "l1 = list(range(10))\n",
    "l2 = list(range(11,21))\n",
    "\n",
    "[ival*jval for i,ival in enumerate(l1) for j,jval in enumerate(l2) if i == j]"
   ]
  },
  {
   "cell_type": "markdown",
   "metadata": {},
   "source": [
    "#### 13. Using iter function print only even and odd numbers of a list between 1 to 50 (will show in next class)"
   ]
  },
  {
   "cell_type": "markdown",
   "metadata": {},
   "source": [
    "#### 14. Write a Python program to count the number of characters in a string: 'google.com'\n",
    "O/p should be in the form of dictionary and each char should be used as key and their number of occurrences should be value"
   ]
  },
  {
   "cell_type": "code",
   "execution_count": 24,
   "metadata": {},
   "outputs": [
    {
     "name": "stdout",
     "output_type": "stream",
     "text": [
      "{'g': 2, 'o': 3, 'l': 1, 'e': 1, '.': 1, 'c': 1, 'm': 1}\n"
     ]
    }
   ],
   "source": [
    "st = \"google.com\"\n",
    "d = {}\n",
    "\n",
    "for key in st:\n",
    "    if (d.get(key, 0) != 0):\n",
    "        count = d.get(key, 0)\n",
    "        count+=1\n",
    "        d[key] = count\n",
    "    else:\n",
    "        d[key] = 1\n",
    "print(d)"
   ]
  },
  {
   "cell_type": "markdown",
   "metadata": {},
   "source": [
    "#### 15. Write a Python program to create a list by concatenating a given list which range from 1 to n. \n",
    "Sample list : ['p', 'q']\n",
    "n =5\n",
    "Output should be : ['p1', 'q1', 'p2', 'q2', 'p3', 'q3', 'p4', 'q4', 'p5', 'q5']"
   ]
  },
  {
   "cell_type": "code",
   "execution_count": 3,
   "metadata": {},
   "outputs": [
    {
     "name": "stdout",
     "output_type": "stream",
     "text": [
      "enter the list: ['a','b', 'c']\n",
      "['a', 'b', 'c']\n",
      "enter the number: 5\n",
      "5\n",
      "['a1', 'b1', 'c1', 'a2', 'b2', 'c2', 'a3', 'b3', 'c3', 'a4', 'b4', 'c4', 'a5', 'b5', 'c5']\n"
     ]
    }
   ],
   "source": [
    "a = eval(input(\"enter the list: \"))\n",
    "print(a)\n",
    "\n",
    "num = eval(input(\"enter the number: \"))\n",
    "print(num)\n",
    "\n",
    "count = 1\n",
    "result = []\n",
    "\n",
    "while count <= num:\n",
    "    for l in a:\n",
    "        result.append(l+ str(count))\n",
    "    count+=1    \n",
    "print(result)"
   ]
  },
  {
   "cell_type": "code",
   "execution_count": 44,
   "metadata": {},
   "outputs": [
    {
     "name": "stdout",
     "output_type": "stream",
     "text": [
      "enter the list: ['p','q']\n",
      "['p', 'q']\n",
      "enter the number: 5\n",
      "5\n"
     ]
    },
    {
     "data": {
      "text/plain": [
       "['p1', 'q1', 'p2', 'q2', 'p3', 'q3', 'p4', 'q4', 'p5', 'q5']"
      ]
     },
     "execution_count": 44,
     "metadata": {},
     "output_type": "execute_result"
    }
   ],
   "source": [
    "#Method2 -> list comprehension\n",
    "a = eval(input(\"enter the list: \"))\n",
    "print(a)\n",
    "\n",
    "num = eval(input(\"enter the number: \"))\n",
    "print(num)\n",
    "\n",
    "[j+str(i) for i in range(1,num+1) for j in a]"
   ]
  },
  {
   "cell_type": "markdown",
   "metadata": {},
   "source": [
    "#### 16.Write a Python program that accepts a string from user (use input() function),calculate and return the number of upper case letters and lower case letters count as dictionary.\n",
    "\n",
    "using inbuilt functions or using ASCII value (we can work on this solution in class if you are not able to work on it)."
   ]
  },
  {
   "cell_type": "code",
   "execution_count": 41,
   "metadata": {},
   "outputs": [
    {
     "name": "stdout",
     "output_type": "stream",
     "text": [
      "enter the string Dileep\n",
      "{'upperCase': 1, 'lowerCase': 5}\n"
     ]
    }
   ],
   "source": [
    "st = input(\"enter the string \")\n",
    "d = {}\n",
    "\n",
    "numUpper = 0\n",
    "numLower = 0\n",
    "\n",
    "for i in st:\n",
    "    ascii_val = ord(i)\n",
    "    if(ascii_val >= 97 and ascii_val <= 122):\n",
    "        numLower+=1\n",
    "    elif(ascii_val >= 65 and ascii_val <= 90):\n",
    "        numUpper+=1\n",
    "d[\"upperCase\"] = numUpper\n",
    "d[\"lowerCase\"] = numLower\n",
    "print(d)"
   ]
  },
  {
   "cell_type": "code",
   "execution_count": 42,
   "metadata": {},
   "outputs": [
    {
     "name": "stdout",
     "output_type": "stream",
     "text": [
      "enter the string DileeP\n",
      "{'upperCase': 2, 'lowerCase': 4}\n"
     ]
    }
   ],
   "source": [
    "#Method 2\n",
    "\n",
    "st = input(\"enter the string \")\n",
    "d = {}\n",
    "\n",
    "numUpper = 0\n",
    "numLower = 0\n",
    "\n",
    "for i in st:\n",
    "    if(i.islower()):\n",
    "        numLower+=1\n",
    "    elif(i.isupper()):\n",
    "        numUpper+=1\n",
    "d[\"upperCase\"] = numUpper\n",
    "d[\"lowerCase\"] = numLower\n",
    "print(d)"
   ]
  },
  {
   "cell_type": "markdown",
   "metadata": {},
   "source": [
    "#### 17.Write a Python program that accepts a hyphen-separated sequence of words as input and prints the words in a hyphen-separated sequence after sorting them alphabetically.\n",
    "\n",
    "Sample Items : green-red-yellow-black-white\n",
    "\n",
    "Expected Result : black-green-red-white-yellow"
   ]
  },
  {
   "cell_type": "code",
   "execution_count": 17,
   "metadata": {},
   "outputs": [
    {
     "name": "stdout",
     "output_type": "stream",
     "text": [
      "enter the string green-red-yellow-black-white\n",
      "green-red-yellow-black-white\n",
      "black-green-red-white-yellow\n"
     ]
    }
   ],
   "source": [
    "a = input(\"enter the string \")\n",
    "print(a)\n",
    "\n",
    "b = a.split(sep='-')\n",
    "b.sort()\n",
    "st = ''\n",
    "for i in b:\n",
    "    st = st + i + '-'\n",
    "st = st[:len(st)-1:]\n",
    "print(st)"
   ]
  },
  {
   "cell_type": "code",
   "execution_count": 39,
   "metadata": {},
   "outputs": [
    {
     "name": "stdout",
     "output_type": "stream",
     "text": [
      "enter the string green-red-yellow-black-white\n",
      "green-red-yellow-black-white\n",
      "black-green-red-white-yellow\n"
     ]
    }
   ],
   "source": [
    "#Solution 2\n",
    "a = input(\"enter the string \")\n",
    "print(a)\n",
    "st = a.split(sep='-')\n",
    "st.sort()\n",
    "print('-'.join(a for a in st))"
   ]
  },
  {
   "cell_type": "markdown",
   "metadata": {},
   "source": [
    "#### 18. Using list comprehension, create a string of binary values of each letter of word in a given sentence-> \"I am student of Data Science\"\n",
    "e.g: if a = \"Hello world\" then output should be '1001000 1100101 1101100 1101100 1101111 100000 1010111 1101111 1110010 1101100 1100100\""
   ]
  },
  {
   "cell_type": "code",
   "execution_count": 33,
   "metadata": {},
   "outputs": [
    {
     "name": "stdout",
     "output_type": "stream",
     "text": [
      "enter the string Hello world\n"
     ]
    },
    {
     "data": {
      "text/plain": [
       "'1001000 1100101 1101100 1101100 1101111 100000 1110111 1101111 1110010 1101100 1100100'"
      ]
     },
     "execution_count": 33,
     "metadata": {},
     "output_type": "execute_result"
    }
   ],
   "source": [
    "a = input(\"enter the string \")\n",
    "\n",
    "' '.join(format(ord(a), 'b') for a in st)"
   ]
  }
 ],
 "metadata": {
  "kernelspec": {
   "display_name": "Python 3",
   "language": "python",
   "name": "python3"
  },
  "language_info": {
   "codemirror_mode": {
    "name": "ipython",
    "version": 3
   },
   "file_extension": ".py",
   "mimetype": "text/x-python",
   "name": "python",
   "nbconvert_exporter": "python",
   "pygments_lexer": "ipython3",
   "version": "3.7.4"
  },
  "latex_envs": {
   "LaTeX_envs_menu_present": true,
   "autoclose": false,
   "autocomplete": true,
   "bibliofile": "biblio.bib",
   "cite_by": "apalike",
   "current_citInitial": 1,
   "eqLabelWithNumbers": true,
   "eqNumInitial": 1,
   "hotkeys": {
    "equation": "Ctrl-E",
    "itemize": "Ctrl-I"
   },
   "labels_anchors": false,
   "latex_user_defs": false,
   "report_style_numbering": false,
   "user_envs_cfg": false
  },
  "toc": {
   "base_numbering": 1,
   "nav_menu": {},
   "number_sections": true,
   "sideBar": true,
   "skip_h1_title": false,
   "title_cell": "Table of Contents",
   "title_sidebar": "Contents",
   "toc_cell": false,
   "toc_position": {},
   "toc_section_display": true,
   "toc_window_display": false
  },
  "varInspector": {
   "cols": {
    "lenName": 16,
    "lenType": 16,
    "lenVar": 40
   },
   "kernels_config": {
    "python": {
     "delete_cmd_postfix": "",
     "delete_cmd_prefix": "del ",
     "library": "var_list.py",
     "varRefreshCmd": "print(var_dic_list())"
    },
    "r": {
     "delete_cmd_postfix": ") ",
     "delete_cmd_prefix": "rm(",
     "library": "var_list.r",
     "varRefreshCmd": "cat(var_dic_list()) "
    }
   },
   "types_to_exclude": [
    "module",
    "function",
    "builtin_function_or_method",
    "instance",
    "_Feature"
   ],
   "window_display": false
  }
 },
 "nbformat": 4,
 "nbformat_minor": 2
}
