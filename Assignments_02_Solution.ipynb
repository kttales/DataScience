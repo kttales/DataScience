{
 "cells": [
  {
   "cell_type": "markdown",
   "metadata": {},
   "source": [
    "# Functions"
   ]
  },
  {
   "cell_type": "markdown",
   "metadata": {},
   "source": [
    "#### 1.Write a Python function to find the Max three numbers in a given list [1,7,90,33,67,56,20,39,10,30]"
   ]
  },
  {
   "cell_type": "code",
   "execution_count": 1,
   "metadata": {},
   "outputs": [
    {
     "name": "stdout",
     "output_type": "stream",
     "text": [
      "[90, 67, 56]\n"
     ]
    }
   ],
   "source": [
    "def findMax(ls):\n",
    "    \"\"\"\n",
    "        This function returns max of three numbers\n",
    "        argument(ls): list\n",
    "        return: maximum of three numbers in list\n",
    "    \"\"\"\n",
    "    ls.sort(reverse=True)\n",
    "    return(ls[:3])\n",
    "\n",
    "ls = [1,7,90,33,67,56,20,39,10,30]\n",
    "print(findMax(ls))"
   ]
  },
  {
   "cell_type": "markdown",
   "metadata": {},
   "source": [
    "#### 2.Write a Python function to calculate the factorial of a number (a non-negative integer). The function accepts the number from user as an argument"
   ]
  },
  {
   "cell_type": "code",
   "execution_count": 2,
   "metadata": {},
   "outputs": [
    {
     "name": "stdout",
     "output_type": "stream",
     "text": [
      "120\n"
     ]
    }
   ],
   "source": [
    "def findFact(num):\n",
    "    \"\"\"\n",
    "        This function returns the factorial of a number\n",
    "        argument(num) number\n",
    "        return: factorial of a number\n",
    "    \"\"\"\n",
    "    fact = 1\n",
    "    while(num>0):\n",
    "        fact *= num\n",
    "        num = num -1\n",
    "    return fact\n",
    "\n",
    "print(findFact(5))"
   ]
  },
  {
   "cell_type": "markdown",
   "metadata": {},
   "source": [
    "#### 3.Write a \n",
    "- Python function which en-code the user entered statement to an non-readable format. \n",
    "- Python function which de-code the above non-readble statement to a readable format. \n",
    "- See if you can use list comprehension\n",
    "- Once function is ready, decode the following: éÀāčÀēĔĕĄąĎĔÀďĆÀìąāĒĎĂāę\n",
    "\n",
    "Note: for en-coding, shift ascii of each character in given statement by 160. to decode it back, you know what to do :-)"
   ]
  },
  {
   "cell_type": "code",
   "execution_count": 3,
   "metadata": {},
   "outputs": [
    {
     "name": "stdout",
     "output_type": "stream",
     "text": [
      "enter the string to encode: \"hallo\"\n",
      "ÂĈāČČďÂ\n"
     ]
    }
   ],
   "source": [
    "def encodeInput():\n",
    "    \"\"\"\n",
    "        This function encodes the input entered by user\n",
    "        return: encoded string\n",
    "    \"\"\"\n",
    "    st = input(\"enter the string to encode: \")\n",
    "    st1 = ''.join([str(chr((ord(i)+160))) for i in st])\n",
    "    return st1\n",
    "    \n",
    "print(encodeInput())\n"
   ]
  },
  {
   "cell_type": "code",
   "execution_count": 4,
   "metadata": {},
   "outputs": [
    {
     "name": "stdout",
     "output_type": "stream",
     "text": [
      "enter the string to encode: \"auf\"\n"
     ]
    },
    {
     "ename": "ValueError",
     "evalue": "chr() arg not in range(0x110000)",
     "output_type": "error",
     "traceback": [
      "\u001b[1;31m---------------------------------------------------------------------------\u001b[0m",
      "\u001b[1;31mValueError\u001b[0m                                Traceback (most recent call last)",
      "\u001b[1;32m<ipython-input-4-ff30b7cac67c>\u001b[0m in \u001b[0;36m<module>\u001b[1;34m\u001b[0m\n\u001b[0;32m      8\u001b[0m     \u001b[1;32mreturn\u001b[0m \u001b[0mst1\u001b[0m\u001b[1;33m\u001b[0m\u001b[1;33m\u001b[0m\u001b[0m\n\u001b[0;32m      9\u001b[0m \u001b[1;33m\u001b[0m\u001b[0m\n\u001b[1;32m---> 10\u001b[1;33m \u001b[0mprint\u001b[0m\u001b[1;33m(\u001b[0m\u001b[0mdecodeInput\u001b[0m\u001b[1;33m(\u001b[0m\u001b[1;33m)\u001b[0m\u001b[1;33m)\u001b[0m \u001b[1;31m#output- I am student of Learnbay\u001b[0m\u001b[1;33m\u001b[0m\u001b[1;33m\u001b[0m\u001b[0m\n\u001b[0m",
      "\u001b[1;32m<ipython-input-4-ff30b7cac67c>\u001b[0m in \u001b[0;36mdecodeInput\u001b[1;34m()\u001b[0m\n\u001b[0;32m      5\u001b[0m     \"\"\"\n\u001b[0;32m      6\u001b[0m     \u001b[0mst\u001b[0m \u001b[1;33m=\u001b[0m \u001b[0minput\u001b[0m\u001b[1;33m(\u001b[0m\u001b[1;34m\"enter the string to encode: \"\u001b[0m\u001b[1;33m)\u001b[0m\u001b[1;33m\u001b[0m\u001b[1;33m\u001b[0m\u001b[0m\n\u001b[1;32m----> 7\u001b[1;33m     \u001b[0mst1\u001b[0m \u001b[1;33m=\u001b[0m \u001b[1;34m''\u001b[0m\u001b[1;33m.\u001b[0m\u001b[0mjoin\u001b[0m\u001b[1;33m(\u001b[0m\u001b[1;33m[\u001b[0m\u001b[0mstr\u001b[0m\u001b[1;33m(\u001b[0m\u001b[0mchr\u001b[0m\u001b[1;33m(\u001b[0m\u001b[1;33m(\u001b[0m\u001b[0mord\u001b[0m\u001b[1;33m(\u001b[0m\u001b[0mi\u001b[0m\u001b[1;33m)\u001b[0m\u001b[1;33m-\u001b[0m\u001b[1;36m160\u001b[0m\u001b[1;33m)\u001b[0m\u001b[1;33m)\u001b[0m\u001b[1;33m)\u001b[0m \u001b[1;32mfor\u001b[0m \u001b[0mi\u001b[0m \u001b[1;32min\u001b[0m \u001b[0mst\u001b[0m\u001b[1;33m]\u001b[0m\u001b[1;33m)\u001b[0m\u001b[1;33m\u001b[0m\u001b[1;33m\u001b[0m\u001b[0m\n\u001b[0m\u001b[0;32m      8\u001b[0m     \u001b[1;32mreturn\u001b[0m \u001b[0mst1\u001b[0m\u001b[1;33m\u001b[0m\u001b[1;33m\u001b[0m\u001b[0m\n\u001b[0;32m      9\u001b[0m \u001b[1;33m\u001b[0m\u001b[0m\n",
      "\u001b[1;32m<ipython-input-4-ff30b7cac67c>\u001b[0m in \u001b[0;36m<listcomp>\u001b[1;34m(.0)\u001b[0m\n\u001b[0;32m      5\u001b[0m     \"\"\"\n\u001b[0;32m      6\u001b[0m     \u001b[0mst\u001b[0m \u001b[1;33m=\u001b[0m \u001b[0minput\u001b[0m\u001b[1;33m(\u001b[0m\u001b[1;34m\"enter the string to encode: \"\u001b[0m\u001b[1;33m)\u001b[0m\u001b[1;33m\u001b[0m\u001b[1;33m\u001b[0m\u001b[0m\n\u001b[1;32m----> 7\u001b[1;33m     \u001b[0mst1\u001b[0m \u001b[1;33m=\u001b[0m \u001b[1;34m''\u001b[0m\u001b[1;33m.\u001b[0m\u001b[0mjoin\u001b[0m\u001b[1;33m(\u001b[0m\u001b[1;33m[\u001b[0m\u001b[0mstr\u001b[0m\u001b[1;33m(\u001b[0m\u001b[0mchr\u001b[0m\u001b[1;33m(\u001b[0m\u001b[1;33m(\u001b[0m\u001b[0mord\u001b[0m\u001b[1;33m(\u001b[0m\u001b[0mi\u001b[0m\u001b[1;33m)\u001b[0m\u001b[1;33m-\u001b[0m\u001b[1;36m160\u001b[0m\u001b[1;33m)\u001b[0m\u001b[1;33m)\u001b[0m\u001b[1;33m)\u001b[0m \u001b[1;32mfor\u001b[0m \u001b[0mi\u001b[0m \u001b[1;32min\u001b[0m \u001b[0mst\u001b[0m\u001b[1;33m]\u001b[0m\u001b[1;33m)\u001b[0m\u001b[1;33m\u001b[0m\u001b[1;33m\u001b[0m\u001b[0m\n\u001b[0m\u001b[0;32m      8\u001b[0m     \u001b[1;32mreturn\u001b[0m \u001b[0mst1\u001b[0m\u001b[1;33m\u001b[0m\u001b[1;33m\u001b[0m\u001b[0m\n\u001b[0;32m      9\u001b[0m \u001b[1;33m\u001b[0m\u001b[0m\n",
      "\u001b[1;31mValueError\u001b[0m: chr() arg not in range(0x110000)"
     ]
    }
   ],
   "source": [
    "def decodeInput():\n",
    "    \"\"\"\n",
    "        This function decodes the input entered by user\n",
    "        return: decoded string\n",
    "    \"\"\"\n",
    "    st = input(\"enter the string to encode: \")\n",
    "    st1 = ''.join([str(chr((ord(i)-160))) for i in st])\n",
    "    return st1\n",
    "    \n",
    "print(decodeInput()) #output- I am student of Learnbay"
   ]
  },
  {
   "cell_type": "markdown",
   "metadata": {},
   "source": [
    "#### 4. Write a module that contains some functions with one line of documentation to generate a \n",
    "- list to reverse numbers for a given list , \n",
    "- generate even number list and \n",
    "- generate odd numbers list \n",
    "\n",
    "use L1 = range(10,100,3)"
   ]
  },
  {
   "cell_type": "code",
   "execution_count": null,
   "metadata": {
    "ExecuteTime": {
     "end_time": "2019-11-25T03:06:52.100200Z",
     "start_time": "2019-11-25T03:06:52.096200Z"
    }
   },
   "outputs": [],
   "source": [
    "# Note: to write documentation, we have to use triple quote inside function definition. e.g\n",
    "def reverseList(ls):\n",
    "    \"\"\"\n",
    "        This function reverses the given list\n",
    "        arg: list\n",
    "        return: reversed string\n",
    "    \"\"\"\n",
    "    return ls[::-1]\n",
    "\n",
    "def evenList(ls):\n",
    "    \"\"\"\n",
    "        This function returns even list\n",
    "        arg: list\n",
    "        return: even list\n",
    "    \"\"\"\n",
    "    even = []\n",
    "    [even.append(i) for i in ls if i%2==0]\n",
    "    return even\n",
    "\n",
    "def oddList(ls):\n",
    "    \"\"\"\n",
    "        This function returns odd list\n",
    "        arg: list\n",
    "        return: odd list\n",
    "    \"\"\"\n",
    "    odd = []\n",
    "    [odd.append(i) for i in ls if i%2!=0]\n",
    "    return odd\n",
    "\n",
    "def test():\n",
    "    \"\"\"\n",
    "    This function is tests the functionality of other functions\n",
    "    \"\"\"\n",
    "    a = list(range(10,100,3))\n",
    "    print(a)\n",
    "    \n",
    "    #reverse list\n",
    "    print(reverseList(a))\n",
    "    \n",
    "    #even list\n",
    "    print(evenList(a))\n",
    "    \n",
    "    #odd list\n",
    "    print(oddList(a))\n",
    "# to access document, used test.__doc__  that will print your document\n",
    "print(test.__doc__)\n",
    "test()"
   ]
  },
  {
   "cell_type": "markdown",
   "metadata": {},
   "source": [
    "#### 5.Call above written module using “import” in different file and load various available modules and perform the same operations (i.e. generate list of reverse, even and odd numbers)"
   ]
  },
  {
   "cell_type": "code",
   "execution_count": null,
   "metadata": {},
   "outputs": [],
   "source": [
    "# Note: to write documentation, we have to use triple quote inside function definition. e.g\n",
    "import modulelist as m\n",
    "def test():\n",
    "    \"\"\"\n",
    "    This function is tests the functionality of other functions\n",
    "    \"\"\"\n",
    "    a = list(range(10,100,3))\n",
    "    print(a)\n",
    "    \n",
    "    #reverse list\n",
    "    print(m.reverseList(a))\n",
    "    \n",
    "    #even list\n",
    "    print(m.evenList(a))\n",
    "    \n",
    "    #odd list\n",
    "    print(m.oddList(a))\n",
    "# to access document, used test.__doc__  that will print your document\n",
    "print(test.__doc__)\n",
    "test()"
   ]
  },
  {
   "cell_type": "markdown",
   "metadata": {},
   "source": [
    "#### 6. Filter Even and odd number from a given list L1 (see above) using lambda function + list comprehension. \n",
    "- I expect line of code no more than 4 to 5 lines"
   ]
  },
  {
   "cell_type": "code",
   "execution_count": null,
   "metadata": {},
   "outputs": [],
   "source": [
    "odd =[]\n",
    "even= []\n",
    "\n",
    "lam = lambda x : even.append(x) if x%2==0 else odd.append(x)\n",
    "[lam(i) for i in range(10,100,3)]\n",
    "\n",
    "print(odd)\n",
    "print(even)"
   ]
  },
  {
   "cell_type": "markdown",
   "metadata": {
    "ExecuteTime": {
     "end_time": "2018-06-10T14:27:52.095007Z",
     "start_time": "2018-06-10T14:27:52.079407Z"
    }
   },
   "source": [
    "### For File IO (will do in next class)"
   ]
  },
  {
   "cell_type": "markdown",
   "metadata": {},
   "source": [
    "#### 7. Write a script which opens a text file and read each line and print them along with line number (counter variable to be used).\n"
   ]
  },
  {
   "cell_type": "markdown",
   "metadata": {},
   "source": [
    "#### 8. Write a program which opens a text file and read the whole contents and write to different file."
   ]
  },
  {
   "cell_type": "markdown",
   "metadata": {},
   "source": [
    "### For Exception"
   ]
  },
  {
   "cell_type": "markdown",
   "metadata": {},
   "source": [
    "#### 9. Write a program to write something in a text file which is not existing (and opened in read only mode). Handle the exception gracefully and write the output."
   ]
  },
  {
   "cell_type": "code",
   "execution_count": 24,
   "metadata": {},
   "outputs": [
    {
     "name": "stdout",
     "output_type": "stream",
     "text": [
      "File I/O error: [Errno 2] No such file or directory: 'test.txt'\n"
     ]
    }
   ],
   "source": [
    "import sys\n",
    "\n",
    "try:\n",
    "    f = open('test.txt', 'r')\n",
    "    f.write(\"This is the write command\")\n",
    "except Exception as err:\n",
    "    print(\"File I/O error: {0}\".format(err))\n",
    "    #f = open('dummy.txt', 'w')\n",
    "    #f.write(\"This is the write command\")\n",
    "    f.close()"
   ]
  },
  {
   "cell_type": "markdown",
   "metadata": {},
   "source": [
    "### For regular expression (will do in next class)"
   ]
  },
  {
   "cell_type": "markdown",
   "metadata": {},
   "source": [
    "#### 10.Write a Python program to search 3’letter strings in a given sentence.\n",
    "Sample text : 'The quick brown fox jumps over the lazy dog.'\n",
    "Searched words : 'fox', 'dog'"
   ]
  },
  {
   "cell_type": "markdown",
   "metadata": {},
   "source": [
    "#### 11.Write a program which takes input from user to enter email ID and return the message if email ID is valid or not"
   ]
  },
  {
   "cell_type": "markdown",
   "metadata": {},
   "source": [
    "#### 12.Write a script which takes input to enter IP address and return a message if IP address is valid or not"
   ]
  }
 ],
 "metadata": {
  "kernelspec": {
   "display_name": "Python 3",
   "language": "python",
   "name": "python3"
  },
  "language_info": {
   "codemirror_mode": {
    "name": "ipython",
    "version": 3
   },
   "file_extension": ".py",
   "mimetype": "text/x-python",
   "name": "python",
   "nbconvert_exporter": "python",
   "pygments_lexer": "ipython3",
   "version": "3.7.4"
  },
  "latex_envs": {
   "LaTeX_envs_menu_present": true,
   "autoclose": false,
   "autocomplete": true,
   "bibliofile": "biblio.bib",
   "cite_by": "apalike",
   "current_citInitial": 1,
   "eqLabelWithNumbers": true,
   "eqNumInitial": 1,
   "hotkeys": {
    "equation": "Ctrl-E",
    "itemize": "Ctrl-I"
   },
   "labels_anchors": false,
   "latex_user_defs": false,
   "report_style_numbering": false,
   "user_envs_cfg": false
  },
  "toc": {
   "base_numbering": 1,
   "nav_menu": {},
   "number_sections": true,
   "sideBar": true,
   "skip_h1_title": false,
   "title_cell": "Table of Contents",
   "title_sidebar": "Contents",
   "toc_cell": false,
   "toc_position": {},
   "toc_section_display": true,
   "toc_window_display": false
  },
  "varInspector": {
   "cols": {
    "lenName": 16,
    "lenType": 16,
    "lenVar": 40
   },
   "kernels_config": {
    "python": {
     "delete_cmd_postfix": "",
     "delete_cmd_prefix": "del ",
     "library": "var_list.py",
     "varRefreshCmd": "print(var_dic_list())"
    },
    "r": {
     "delete_cmd_postfix": ") ",
     "delete_cmd_prefix": "rm(",
     "library": "var_list.r",
     "varRefreshCmd": "cat(var_dic_list()) "
    }
   },
   "types_to_exclude": [
    "module",
    "function",
    "builtin_function_or_method",
    "instance",
    "_Feature"
   ],
   "window_display": false
  }
 },
 "nbformat": 4,
 "nbformat_minor": 2
}
